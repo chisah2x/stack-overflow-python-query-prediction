{
 "cells": [
  {
   "cell_type": "code",
   "execution_count": 3,
   "metadata": {},
   "outputs": [],
   "source": [
    "import os"
   ]
  },
  {
   "cell_type": "code",
   "execution_count": 9,
   "metadata": {},
   "outputs": [
    {
     "name": "stdout",
     "output_type": "stream",
     "text": [
      "['data.xml']\n",
      "True\n"
     ]
    }
   ],
   "source": [
    "file_path = \"main_data\"\n",
    "\n",
    "print(os.listdir(file_path))  #by default find in cwd\n",
    "for file in os.listdir(file_path): \n",
    "    if file.endswith(\".xml\"):\n",
    "        print(True)"
   ]
  },
  {
   "cell_type": "code",
   "execution_count": 10,
   "metadata": {},
   "outputs": [
    {
     "data": {
      "text/plain": [
       "'c:\\\\Users\\\\chira\\\\OneDrive\\\\Documents\\\\stack-overflow-python-query-prediction\\\\DataPipelineComponent'"
      ]
     },
     "execution_count": 10,
     "metadata": {},
     "output_type": "execute_result"
    }
   ],
   "source": [
    "os.getcwd()"
   ]
  },
  {
   "cell_type": "code",
   "execution_count": 15,
   "metadata": {},
   "outputs": [
    {
     "name": "stdout",
     "output_type": "stream",
     "text": [
      "c:\\Users\\chira\\OneDrive\\Documents\\stack-overflow-python-query-prediction\\DataPipelineComponent\\main_data\n"
     ]
    }
   ],
   "source": [
    "data_dir = os.path.join(os.getcwd(), file_path)  #data_dir\n",
    "print(data_dir)"
   ]
  },
  {
   "attachments": {},
   "cell_type": "markdown",
   "metadata": {},
   "source": [
    "####### Reads the key,value pair from .env and adds them to environment variable. It is great of managing app settings during development and in production using 12-factor principles. Assuming you have created the .env file along-side your settings module.\n",
    "\n",
    "https://stackoverflow.com/questions/41546883/what-is-the-use-of-python-dotenv"
   ]
  },
  {
   "cell_type": "code",
   "execution_count": 13,
   "metadata": {},
   "outputs": [
    {
     "name": "stdout",
     "output_type": "stream",
     "text": [
      "pythonquerystackoverflow\n"
     ]
    }
   ],
   "source": [
    "from dotenv import load_dotenv\n",
    "load_dotenv()\n",
    "bucket_name = os.getenv(\"AWS_S3_BUCKET\")\n",
    "print(bucket_name)"
   ]
  },
  {
   "cell_type": "code",
   "execution_count": 14,
   "metadata": {},
   "outputs": [
    {
     "name": "stdout",
     "output_type": "stream",
     "text": [
      "s3://pythonquerystackoverflow/stack_overflow_data\n"
     ]
    }
   ],
   "source": [
    "\n",
    "s3_uri=f\"s3://{bucket_name}/stack_overflow_data\"\n",
    "print(s3_uri)"
   ]
  },
  {
   "attachments": {},
   "cell_type": "markdown",
   "metadata": {},
   "source": [
    "##### aws s3 sync <source> <target> [--options]  : The s3 sync command synchronizes the contents of a bucket and a directory, or the contents of two buckets. Typically, s3 sync copies missing or outdated files or objects between the source and target. \n",
    "\n",
    "Syntax: os.system(command) command is of string type that tells which command to execute.\n",
    "\n",
    "def s3_json_folder_sync(folder,aws_bucket_uri):\n",
    "    command=f\"aws s3 sync {folder} {aws_bucket_uri}\"\n",
    "    os.system(command)"
   ]
  },
  {
   "cell_type": "code",
   "execution_count": 16,
   "metadata": {},
   "outputs": [
    {
     "name": "stdout",
     "output_type": "stream",
     "text": [
      "aws s3 sync c:\\Users\\chira\\OneDrive\\Documents\\stack-overflow-python-query-prediction\\DataPipelineComponent\\main_data s3://pythonquerystackoverflow/stack_overflow_data\n"
     ]
    }
   ],
   "source": [
    "#S3Sync.s3_json_folder_sync(data_dir,s3_uri)\n",
    "command=f\"aws s3 sync {data_dir} {s3_uri}\"\n",
    "print(command)"
   ]
  },
  {
   "cell_type": "code",
   "execution_count": 17,
   "metadata": {},
   "outputs": [
    {
     "data": {
      "text/plain": [
       "0"
      ]
     },
     "execution_count": 17,
     "metadata": {},
     "output_type": "execute_result"
    }
   ],
   "source": [
    "os.system(command)"
   ]
  },
  {
   "cell_type": "code",
   "execution_count": null,
   "metadata": {},
   "outputs": [],
   "source": []
  }
 ],
 "metadata": {
  "kernelspec": {
   "display_name": "venv",
   "language": "python",
   "name": "python3"
  },
  "language_info": {
   "codemirror_mode": {
    "name": "ipython",
    "version": 3
   },
   "file_extension": ".py",
   "mimetype": "text/x-python",
   "name": "python",
   "nbconvert_exporter": "python",
   "pygments_lexer": "ipython3",
   "version": "3.9.7"
  },
  "orig_nbformat": 4
 },
 "nbformat": 4,
 "nbformat_minor": 2
}
